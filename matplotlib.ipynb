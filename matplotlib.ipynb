{
 "cells": [
  {
   "cell_type": "code",
   "execution_count": 1,
   "metadata": {
    "collapsed": false
   },
   "outputs": [
    {
     "data": {
      "text/plain": [
       "6691"
      ]
     },
     "execution_count": 1,
     "metadata": {},
     "output_type": "execute_result"
    }
   ],
   "source": [
    "1235+5456"
   ]
  },
  {
   "cell_type": "code",
   "execution_count": 3,
   "metadata": {
    "collapsed": false
   },
   "outputs": [
    {
     "data": {
      "text/plain": [
       "7.199999999999999"
      ]
     },
     "execution_count": 3,
     "metadata": {},
     "output_type": "execute_result"
    }
   ],
   "source": [
    "1.2*6"
   ]
  },
  {
   "cell_type": "code",
   "execution_count": 12,
   "metadata": {
    "collapsed": false
   },
   "outputs": [
    {
     "ename": "TypeError",
     "evalue": "'str' object does not support item assignment",
     "output_type": "error",
     "traceback": [
      "\u001b[1;31m---------------------------------------------------------------------------\u001b[0m",
      "\u001b[1;31mTypeError\u001b[0m                                 Traceback (most recent call last)",
      "\u001b[1;32m<ipython-input-12-f75fb0a53cbd>\u001b[0m in \u001b[0;36m<module>\u001b[1;34m()\u001b[0m\n\u001b[0;32m      1\u001b[0m \u001b[0mp\u001b[0m \u001b[1;33m=\u001b[0m \u001b[1;34m'Python'\u001b[0m\u001b[1;33m\u001b[0m\u001b[0m\n\u001b[0;32m      2\u001b[0m \u001b[0mlist\u001b[0m\u001b[1;33m(\u001b[0m\u001b[0mp\u001b[0m\u001b[1;33m)\u001b[0m\u001b[1;33m\u001b[0m\u001b[0m\n\u001b[1;32m----> 3\u001b[1;33m \u001b[0mp\u001b[0m\u001b[1;33m[\u001b[0m\u001b[1;36m2\u001b[0m\u001b[1;33m]\u001b[0m \u001b[1;33m=\u001b[0m \u001b[1;34m'm'\u001b[0m\u001b[1;33m\u001b[0m\u001b[0m\n\u001b[0m\u001b[0;32m      4\u001b[0m \u001b[1;34m''\u001b[0m\u001b[1;33m.\u001b[0m\u001b[0mjoin\u001b[0m\u001b[1;33m(\u001b[0m\u001b[0mp\u001b[0m\u001b[1;33m)\u001b[0m\u001b[1;33m\u001b[0m\u001b[0m\n",
      "\u001b[1;31mTypeError\u001b[0m: 'str' object does not support item assignment"
     ]
    }
   ],
   "source": [
    "p = 'Python'\n",
    "list(p)\n",
    "p[2] = 'm'\n",
    "''.join(p)"
   ]
  },
  {
   "cell_type": "code",
   "execution_count": 13,
   "metadata": {
    "collapsed": false
   },
   "outputs": [
    {
     "name": "stdout",
     "output_type": "stream",
     "text": [
      "x=10\n"
     ]
    }
   ],
   "source": [
    "x = 10\n",
    "print('x=' + str(x))"
   ]
  },
  {
   "cell_type": "code",
   "execution_count": 16,
   "metadata": {
    "collapsed": false
   },
   "outputs": [
    {
     "name": "stdout",
     "output_type": "stream",
     "text": [
      "1\n",
      "2\n",
      "3\n",
      "4\n",
      "5\n"
     ]
    }
   ],
   "source": [
    "count =1\n",
    "while count <= 5:\n",
    "    print(count)\n",
    "    count+=1"
   ]
  },
  {
   "cell_type": "code",
   "execution_count": 19,
   "metadata": {
    "collapsed": false
   },
   "outputs": [
    {
     "name": "stdout",
     "output_type": "stream",
     "text": [
      "0\n",
      "2\n",
      "4\n",
      "6\n",
      "8\n",
      "10\n",
      "12\n",
      "14\n",
      "16\n",
      "18\n",
      "20\n"
     ]
    }
   ],
   "source": [
    "count = 0             # Initialize counter\n",
    "while count <= 20:    # Counting range\n",
    "        print(count)  # printing the values\n",
    "        count +=2     # Increment counter"
   ]
  },
  {
   "cell_type": "code",
   "execution_count": 3,
   "metadata": {
    "collapsed": false
   },
   "outputs": [
    {
     "name": "stdout",
     "output_type": "stream",
     "text": [
      "Enter numbers to sum, negative number ends the list:\n",
      "1\n",
      "2\n",
      "-9\n",
      "Sum = 3\n"
     ]
    }
   ],
   "source": [
    "entry = 0 # Ensure the loop is entered\n",
    "sumd = 0 # Initialize sum\n",
    "\n",
    "# Request input from the user\n",
    "\n",
    "print(\"Enter numbers to sum, negative number ends the list:\")\n",
    "while entry >= 0:           # A negative number exits the loop\n",
    "    entry = eval(input())   # Get the value\n",
    "    if entry >= 0:\n",
    "        sumd += entry       # Only add it if it is non-negative\n",
    "print(\"Sum =\", sumd)        # Display the sum of positive values\n",
    "    \n",
    "    "
   ]
  },
  {
   "cell_type": "code",
   "execution_count": 8,
   "metadata": {
    "collapsed": false
   },
   "outputs": [
    {
     "name": "stdout",
     "output_type": "stream",
     "text": [
      "       1  2  3  4  5  6  7  8  9  10 \n",
      "+--------------------------------------------\n",
      " 1 |   1   2   3   4   5   6   7   8   9  10 \n",
      " 2 |   2   4   6   8  10  12  14  16  18  20 \n",
      " 3 |   3   6   9  12  15  18  21  24  27  30 \n",
      " 4 |   4   8  12  16  20  24  28  32  36  40 \n",
      " 5 |   5  10  15  20  25  30  35  40  45  50 \n",
      " 6 |   6  12  18  24  30  36  42  48  54  60 \n",
      " 7 |   7  14  21  28  35  42  49  56  63  70 \n",
      " 8 |   8  16  24  32  40  48  56  64  72  80 \n",
      " 9 |   9  18  27  36  45  54  63  72  81  90 \n",
      "10 |  10  20  30  40  50  60  70  80  90 100 \n"
     ]
    }
   ],
   "source": [
    "# Print a multiplication table to 10 x 10\n",
    "# Print column heading\n",
    "\n",
    "print('       1  2  3  4  5  6  7  8  9  10 ')\n",
    "print('+--------------------------------------------')\n",
    "for row in range(1,11):\n",
    "    if row < 10:                        # Need to add space?\n",
    "        print(\" \", end=\"\")\n",
    "    print(row, \"| \", end=\"\")             # Print heading for this row.\n",
    "    for column in range(1, 11):          # Table has 10 columns.\n",
    "        product = row*column;            # Compute product\n",
    "        if product < 100:                # Need to add space?\n",
    "             print(end=\" \")\n",
    "        if product < 10:                 # Need to add another space?\n",
    "             print(end=\" \")\n",
    "        print(product, end=\" \")         # Display product\n",
    "    print()                             # Move cursor to next row\n",
    "    "
   ]
  },
  {
   "cell_type": "code",
   "execution_count": 9,
   "metadata": {
    "collapsed": false
   },
   "outputs": [
    {
     "name": "stdout",
     "output_type": "stream",
     "text": [
      "ABC\n",
      "ACB\n",
      "BAC\n",
      "BCA\n",
      "CAB\n",
      "CBA\n"
     ]
    }
   ],
   "source": [
    "# The first letter varies from A to C\n",
    "for first in 'ABC':\n",
    "    for second in 'ABC': # The second varies from A to C\n",
    "        if second != first: # No duplicate letters allowed\n",
    "            for third in 'ABC': # The third varies from A to C\n",
    "                if third != first and third != second:      # Don't duplicate first or second letter\n",
    "                    print(first + second + third)"
   ]
  },
  {
   "cell_type": "code",
   "execution_count": null,
   "metadata": {
    "collapsed": true
   },
   "outputs": [],
   "source": [
    "matplot lib "
   ]
  },
  {
   "cell_type": "code",
   "execution_count": 26,
   "metadata": {
    "collapsed": false
   },
   "outputs": [
    {
     "data": {
      "image/png": "[encoded data removed]",
      "text/plain": [
       "<Figure size 432x288 with 1 Axes>"
      ]
     },
     "metadata": {},
     "output_type": "display_data"
    }
   ],
   "source": [
    "import numpy as np\n",
    "import matplotlib.pylab as plt\n",
    "xvals = np.arange(4, 10, 0.05)      # Grid of 0.05 spacing from 4 to 10\n",
    "yvals = np.sin(xvals)               # Evaluate function on xvals\n",
    "plt.plot(xvals, yvals)              # Create line plot with yvals against xvals\n",
    "plt.show() "
   ]
  }
 ],
 "metadata": {
  "anaconda-cloud": {},
  "kernelspec": {
   "display_name": "Python [py35]",
   "language": "python",
   "name": "Python [py35]"
  },
  "language_info": {
   "codemirror_mode": {
    "name": "ipython",
    "version": 3
   },
   "file_extension": ".py",
   "mimetype": "text/x-python",
   "name": "python",
   "nbconvert_exporter": "python",
   "pygments_lexer": "ipython3",
   "version": "3.5.5"
  }
 },
 "nbformat": 4,
 "nbformat_minor": 0
}
